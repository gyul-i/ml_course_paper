{
 "cells": [
  {
   "cell_type": "code",
   "execution_count": 1,
   "id": "a281dbf5",
   "metadata": {},
   "outputs": [],
   "source": [
    "%matplotlib inline\n",
    "import matplotlib.pyplot as plt\n",
    "import seaborn as sns; sns.set()\n",
    "import numpy as np\n",
    "import pandas as pd\n",
    "from sklearn.ensemble import RandomForestClassifier\n",
    "from sklearn import metrics"
   ]
  },
  {
   "cell_type": "code",
   "execution_count": 2,
   "id": "490a6131",
   "metadata": {},
   "outputs": [
    {
     "data": {
      "text/html": [
       "<div>\n",
       "<style scoped>\n",
       "    .dataframe tbody tr th:only-of-type {\n",
       "        vertical-align: middle;\n",
       "    }\n",
       "\n",
       "    .dataframe tbody tr th {\n",
       "        vertical-align: top;\n",
       "    }\n",
       "\n",
       "    .dataframe thead th {\n",
       "        text-align: right;\n",
       "    }\n",
       "</style>\n",
       "<table border=\"1\" class=\"dataframe\">\n",
       "  <thead>\n",
       "    <tr style=\"text-align: right;\">\n",
       "      <th></th>\n",
       "      <th>hash</th>\n",
       "      <th>size_of_data</th>\n",
       "      <th>virtual_address</th>\n",
       "      <th>entropy</th>\n",
       "      <th>virtual_size</th>\n",
       "      <th>malware</th>\n",
       "    </tr>\n",
       "  </thead>\n",
       "  <tbody>\n",
       "    <tr>\n",
       "      <th>0</th>\n",
       "      <td>071e8c3f8922e186e57548cd4c703a5d</td>\n",
       "      <td>443392</td>\n",
       "      <td>4096</td>\n",
       "      <td>6.529624</td>\n",
       "      <td>442984</td>\n",
       "      <td>1</td>\n",
       "    </tr>\n",
       "    <tr>\n",
       "      <th>1</th>\n",
       "      <td>33f8e6d08a6aae939f25a8e0d63dd523</td>\n",
       "      <td>331264</td>\n",
       "      <td>4096</td>\n",
       "      <td>6.604314</td>\n",
       "      <td>330784</td>\n",
       "      <td>1</td>\n",
       "    </tr>\n",
       "    <tr>\n",
       "      <th>2</th>\n",
       "      <td>b68abd064e975e1c6d5f25e748663076</td>\n",
       "      <td>74240</td>\n",
       "      <td>4096</td>\n",
       "      <td>6.046789</td>\n",
       "      <td>73819</td>\n",
       "      <td>1</td>\n",
       "    </tr>\n",
       "    <tr>\n",
       "      <th>3</th>\n",
       "      <td>72049be7bd30ea61297ea624ae198067</td>\n",
       "      <td>219648</td>\n",
       "      <td>4096</td>\n",
       "      <td>6.497018</td>\n",
       "      <td>219524</td>\n",
       "      <td>1</td>\n",
       "    </tr>\n",
       "    <tr>\n",
       "      <th>4</th>\n",
       "      <td>c9b3700a77facf29172f32df6bc77f48</td>\n",
       "      <td>262144</td>\n",
       "      <td>4096</td>\n",
       "      <td>6.638142</td>\n",
       "      <td>261943</td>\n",
       "      <td>1</td>\n",
       "    </tr>\n",
       "    <tr>\n",
       "      <th>...</th>\n",
       "      <td>...</td>\n",
       "      <td>...</td>\n",
       "      <td>...</td>\n",
       "      <td>...</td>\n",
       "      <td>...</td>\n",
       "      <td>...</td>\n",
       "    </tr>\n",
       "    <tr>\n",
       "      <th>43288</th>\n",
       "      <td>9b917bab7f32188ae40c744f2be9aaf8</td>\n",
       "      <td>286720</td>\n",
       "      <td>4096</td>\n",
       "      <td>6.585726</td>\n",
       "      <td>286359</td>\n",
       "      <td>1</td>\n",
       "    </tr>\n",
       "    <tr>\n",
       "      <th>43289</th>\n",
       "      <td>35a18ee05f75f04912018d9f462cb990</td>\n",
       "      <td>262144</td>\n",
       "      <td>4096</td>\n",
       "      <td>6.638142</td>\n",
       "      <td>261943</td>\n",
       "      <td>1</td>\n",
       "    </tr>\n",
       "    <tr>\n",
       "      <th>43290</th>\n",
       "      <td>654139d715abcf7ecdddbef5a84f224b</td>\n",
       "      <td>262144</td>\n",
       "      <td>4096</td>\n",
       "      <td>6.638142</td>\n",
       "      <td>261943</td>\n",
       "      <td>1</td>\n",
       "    </tr>\n",
       "    <tr>\n",
       "      <th>43291</th>\n",
       "      <td>078c9d4e7be4819a06974c6f292a4857</td>\n",
       "      <td>443392</td>\n",
       "      <td>4096</td>\n",
       "      <td>6.529624</td>\n",
       "      <td>442984</td>\n",
       "      <td>1</td>\n",
       "    </tr>\n",
       "    <tr>\n",
       "      <th>43292</th>\n",
       "      <td>28a46c37f3a894f6d4ce8c38c2ff1fb1</td>\n",
       "      <td>803840</td>\n",
       "      <td>4096</td>\n",
       "      <td>6.384199</td>\n",
       "      <td>803576</td>\n",
       "      <td>0</td>\n",
       "    </tr>\n",
       "  </tbody>\n",
       "</table>\n",
       "<p>43293 rows × 6 columns</p>\n",
       "</div>"
      ],
      "text/plain": [
       "                                   hash  size_of_data  virtual_address  \\\n",
       "0      071e8c3f8922e186e57548cd4c703a5d        443392             4096   \n",
       "1      33f8e6d08a6aae939f25a8e0d63dd523        331264             4096   \n",
       "2      b68abd064e975e1c6d5f25e748663076         74240             4096   \n",
       "3      72049be7bd30ea61297ea624ae198067        219648             4096   \n",
       "4      c9b3700a77facf29172f32df6bc77f48        262144             4096   \n",
       "...                                 ...           ...              ...   \n",
       "43288  9b917bab7f32188ae40c744f2be9aaf8        286720             4096   \n",
       "43289  35a18ee05f75f04912018d9f462cb990        262144             4096   \n",
       "43290  654139d715abcf7ecdddbef5a84f224b        262144             4096   \n",
       "43291  078c9d4e7be4819a06974c6f292a4857        443392             4096   \n",
       "43292  28a46c37f3a894f6d4ce8c38c2ff1fb1        803840             4096   \n",
       "\n",
       "        entropy  virtual_size  malware  \n",
       "0      6.529624        442984        1  \n",
       "1      6.604314        330784        1  \n",
       "2      6.046789         73819        1  \n",
       "3      6.497018        219524        1  \n",
       "4      6.638142        261943        1  \n",
       "...         ...           ...      ...  \n",
       "43288  6.585726        286359        1  \n",
       "43289  6.638142        261943        1  \n",
       "43290  6.638142        261943        1  \n",
       "43291  6.529624        442984        1  \n",
       "43292  6.384199        803576        0  \n",
       "\n",
       "[43293 rows x 6 columns]"
      ]
     },
     "execution_count": 2,
     "metadata": {},
     "output_type": "execute_result"
    }
   ],
   "source": [
    "data = pd.read_csv('pe_section_headers.csv',delimiter=',')\n",
    "data"
   ]
  },
  {
   "cell_type": "code",
   "execution_count": 3,
   "id": "df01a621",
   "metadata": {},
   "outputs": [
    {
     "data": {
      "text/plain": [
       "(43293, 6)"
      ]
     },
     "execution_count": 3,
     "metadata": {},
     "output_type": "execute_result"
    }
   ],
   "source": [
    "data.shape #размер датафрейма"
   ]
  },
  {
   "cell_type": "code",
   "execution_count": 4,
   "id": "bdb00c34",
   "metadata": {},
   "outputs": [
    {
     "name": "stdout",
     "output_type": "stream",
     "text": [
      "hash               0\n",
      "size_of_data       0\n",
      "virtual_address    0\n",
      "entropy            0\n",
      "virtual_size       0\n",
      "malware            0\n",
      "dtype: int64\n"
     ]
    }
   ],
   "source": [
    "print(data.isna().sum()) #проверяю на наличие пропусков"
   ]
  },
  {
   "cell_type": "code",
   "execution_count": 5,
   "id": "d3d4f8f3",
   "metadata": {},
   "outputs": [
    {
     "name": "stdout",
     "output_type": "stream",
     "text": [
      "<class 'pandas.core.frame.DataFrame'>\n",
      "RangeIndex: 43293 entries, 0 to 43292\n",
      "Data columns (total 6 columns):\n",
      " #   Column           Non-Null Count  Dtype  \n",
      "---  ------           --------------  -----  \n",
      " 0   hash             43293 non-null  object \n",
      " 1   size_of_data     43293 non-null  int64  \n",
      " 2   virtual_address  43293 non-null  int64  \n",
      " 3   entropy          43293 non-null  float64\n",
      " 4   virtual_size     43293 non-null  int64  \n",
      " 5   malware          43293 non-null  int64  \n",
      "dtypes: float64(1), int64(4), object(1)\n",
      "memory usage: 2.0+ MB\n"
     ]
    }
   ],
   "source": [
    "data.info() #все атрибуты кроме hash имеют числовые значения"
   ]
  },
  {
   "cell_type": "code",
   "execution_count": 6,
   "id": "724e6b03",
   "metadata": {},
   "outputs": [
    {
     "data": {
      "text/plain": [
       "hash               43144\n",
       "size_of_data        2659\n",
       "virtual_address      129\n",
       "entropy            17613\n",
       "virtual_size       11715\n",
       "malware                2\n",
       "dtype: int64"
      ]
     },
     "execution_count": 6,
     "metadata": {},
     "output_type": "execute_result"
    }
   ],
   "source": [
    "data.nunique() #malware - является категориальным признаком. hash надо проверить на наличие дубликатов, тк \n",
    "#уникальных значений меньше, чем общего количества значений"
   ]
  },
  {
   "cell_type": "markdown",
   "id": "a6b4a221",
   "metadata": {},
   "source": [
    "### предобработка датасета"
   ]
  },
  {
   "cell_type": "code",
   "execution_count": 7,
   "id": "79229727",
   "metadata": {},
   "outputs": [
    {
     "data": {
      "text/plain": [
       "24"
      ]
     },
     "execution_count": 7,
     "metadata": {},
     "output_type": "execute_result"
    }
   ],
   "source": [
    "data.duplicated().sum() #найдено 24 дубликата, посмотрим на них"
   ]
  },
  {
   "cell_type": "code",
   "execution_count": 8,
   "id": "47d48a56",
   "metadata": {},
   "outputs": [
    {
     "data": {
      "text/html": [
       "<div>\n",
       "<style scoped>\n",
       "    .dataframe tbody tr th:only-of-type {\n",
       "        vertical-align: middle;\n",
       "    }\n",
       "\n",
       "    .dataframe tbody tr th {\n",
       "        vertical-align: top;\n",
       "    }\n",
       "\n",
       "    .dataframe thead th {\n",
       "        text-align: right;\n",
       "    }\n",
       "</style>\n",
       "<table border=\"1\" class=\"dataframe\">\n",
       "  <thead>\n",
       "    <tr style=\"text-align: right;\">\n",
       "      <th></th>\n",
       "      <th>hash</th>\n",
       "      <th>size_of_data</th>\n",
       "      <th>virtual_address</th>\n",
       "      <th>entropy</th>\n",
       "      <th>virtual_size</th>\n",
       "      <th>malware</th>\n",
       "    </tr>\n",
       "  </thead>\n",
       "  <tbody>\n",
       "    <tr>\n",
       "      <th>7719</th>\n",
       "      <td>a32a382b8a5a906e03a83b4f3e5b7a9b</td>\n",
       "      <td>51712</td>\n",
       "      <td>4096</td>\n",
       "      <td>6.611199</td>\n",
       "      <td>51549</td>\n",
       "      <td>0</td>\n",
       "    </tr>\n",
       "    <tr>\n",
       "      <th>10428</th>\n",
       "      <td>9600d4ff16bd7e21b1a4f534a2327849</td>\n",
       "      <td>47616</td>\n",
       "      <td>4096</td>\n",
       "      <td>6.464158</td>\n",
       "      <td>47210</td>\n",
       "      <td>0</td>\n",
       "    </tr>\n",
       "    <tr>\n",
       "      <th>13380</th>\n",
       "      <td>45ea2362bc248bc57395239a5aa490af</td>\n",
       "      <td>602624</td>\n",
       "      <td>4096</td>\n",
       "      <td>6.383961</td>\n",
       "      <td>602244</td>\n",
       "      <td>0</td>\n",
       "    </tr>\n",
       "    <tr>\n",
       "      <th>14518</th>\n",
       "      <td>075323e77815ee8bcc7854ce23955a15</td>\n",
       "      <td>35840</td>\n",
       "      <td>4096</td>\n",
       "      <td>6.305845</td>\n",
       "      <td>35752</td>\n",
       "      <td>0</td>\n",
       "    </tr>\n",
       "    <tr>\n",
       "      <th>16715</th>\n",
       "      <td>bdaaac3fa3f6796825a51ef1c0e5b3fd</td>\n",
       "      <td>2247168</td>\n",
       "      <td>4096</td>\n",
       "      <td>6.598922</td>\n",
       "      <td>2247161</td>\n",
       "      <td>0</td>\n",
       "    </tr>\n",
       "    <tr>\n",
       "      <th>20041</th>\n",
       "      <td>3d8a7a97ea954dd4fe66279df2b445e0</td>\n",
       "      <td>1950720</td>\n",
       "      <td>4096</td>\n",
       "      <td>6.650195</td>\n",
       "      <td>1950553</td>\n",
       "      <td>0</td>\n",
       "    </tr>\n",
       "    <tr>\n",
       "      <th>20937</th>\n",
       "      <td>01061d1982f34394e39cde33153c19f4</td>\n",
       "      <td>44032</td>\n",
       "      <td>4096</td>\n",
       "      <td>6.475128</td>\n",
       "      <td>43802</td>\n",
       "      <td>0</td>\n",
       "    </tr>\n",
       "    <tr>\n",
       "      <th>21232</th>\n",
       "      <td>79b78bb3d583748040c41ded09555fd3</td>\n",
       "      <td>28672</td>\n",
       "      <td>4096</td>\n",
       "      <td>6.497885</td>\n",
       "      <td>28432</td>\n",
       "      <td>0</td>\n",
       "    </tr>\n",
       "    <tr>\n",
       "      <th>21418</th>\n",
       "      <td>03384ab6368b68ed16ecb9e6352539af</td>\n",
       "      <td>35328</td>\n",
       "      <td>4096</td>\n",
       "      <td>6.275874</td>\n",
       "      <td>34856</td>\n",
       "      <td>0</td>\n",
       "    </tr>\n",
       "    <tr>\n",
       "      <th>21969</th>\n",
       "      <td>45ea2362bc248bc57395239a5aa490af</td>\n",
       "      <td>602624</td>\n",
       "      <td>4096</td>\n",
       "      <td>6.383961</td>\n",
       "      <td>602244</td>\n",
       "      <td>0</td>\n",
       "    </tr>\n",
       "    <tr>\n",
       "      <th>23900</th>\n",
       "      <td>45ea2362bc248bc57395239a5aa490af</td>\n",
       "      <td>602624</td>\n",
       "      <td>4096</td>\n",
       "      <td>6.383961</td>\n",
       "      <td>602244</td>\n",
       "      <td>0</td>\n",
       "    </tr>\n",
       "    <tr>\n",
       "      <th>24376</th>\n",
       "      <td>45ea2362bc248bc57395239a5aa490af</td>\n",
       "      <td>602624</td>\n",
       "      <td>4096</td>\n",
       "      <td>6.383961</td>\n",
       "      <td>602244</td>\n",
       "      <td>0</td>\n",
       "    </tr>\n",
       "    <tr>\n",
       "      <th>27270</th>\n",
       "      <td>1b79ced2b4e7c4a2122256d584e9ad4b</td>\n",
       "      <td>64512</td>\n",
       "      <td>4096</td>\n",
       "      <td>6.582048</td>\n",
       "      <td>64184</td>\n",
       "      <td>0</td>\n",
       "    </tr>\n",
       "    <tr>\n",
       "      <th>30730</th>\n",
       "      <td>950dd2210c66a19974b550a3abae54f5</td>\n",
       "      <td>74752</td>\n",
       "      <td>4096</td>\n",
       "      <td>6.628188</td>\n",
       "      <td>74313</td>\n",
       "      <td>0</td>\n",
       "    </tr>\n",
       "    <tr>\n",
       "      <th>33123</th>\n",
       "      <td>f78ea80cec007b2c32fb10f9c6c82f39</td>\n",
       "      <td>35328</td>\n",
       "      <td>4096</td>\n",
       "      <td>6.301381</td>\n",
       "      <td>35104</td>\n",
       "      <td>0</td>\n",
       "    </tr>\n",
       "    <tr>\n",
       "      <th>36499</th>\n",
       "      <td>967836f5ef6d3a9bf5c6f50ec37e1c73</td>\n",
       "      <td>74240</td>\n",
       "      <td>4096</td>\n",
       "      <td>6.619875</td>\n",
       "      <td>74219</td>\n",
       "      <td>0</td>\n",
       "    </tr>\n",
       "    <tr>\n",
       "      <th>36510</th>\n",
       "      <td>cb59224ec3079a895b7f60cce0374677</td>\n",
       "      <td>1536</td>\n",
       "      <td>4096</td>\n",
       "      <td>5.209896</td>\n",
       "      <td>1198</td>\n",
       "      <td>0</td>\n",
       "    </tr>\n",
       "    <tr>\n",
       "      <th>37608</th>\n",
       "      <td>97694c06a154ee6f80d77a0f5d5da42f</td>\n",
       "      <td>7168</td>\n",
       "      <td>4096</td>\n",
       "      <td>5.921515</td>\n",
       "      <td>6892</td>\n",
       "      <td>0</td>\n",
       "    </tr>\n",
       "    <tr>\n",
       "      <th>38454</th>\n",
       "      <td>8d3ef80b0684c7d42ce3dc20c083cd48</td>\n",
       "      <td>5632</td>\n",
       "      <td>4096</td>\n",
       "      <td>5.675129</td>\n",
       "      <td>5312</td>\n",
       "      <td>0</td>\n",
       "    </tr>\n",
       "    <tr>\n",
       "      <th>38542</th>\n",
       "      <td>60b305209feb97fe7596c8756cbf5baf</td>\n",
       "      <td>11776</td>\n",
       "      <td>4096</td>\n",
       "      <td>5.905715</td>\n",
       "      <td>11756</td>\n",
       "      <td>0</td>\n",
       "    </tr>\n",
       "    <tr>\n",
       "      <th>39803</th>\n",
       "      <td>05597db8265479234c8e15a7290cd7f0</td>\n",
       "      <td>466432</td>\n",
       "      <td>4096</td>\n",
       "      <td>5.917401</td>\n",
       "      <td>466025</td>\n",
       "      <td>0</td>\n",
       "    </tr>\n",
       "    <tr>\n",
       "      <th>41573</th>\n",
       "      <td>e63dc83efa0e9be229cc0863a0aedc79</td>\n",
       "      <td>5632</td>\n",
       "      <td>4096</td>\n",
       "      <td>5.891919</td>\n",
       "      <td>5536</td>\n",
       "      <td>0</td>\n",
       "    </tr>\n",
       "    <tr>\n",
       "      <th>42744</th>\n",
       "      <td>e97c622b03fb2a2598bf019fbbe29f2c</td>\n",
       "      <td>51712</td>\n",
       "      <td>4096</td>\n",
       "      <td>6.618136</td>\n",
       "      <td>51693</td>\n",
       "      <td>0</td>\n",
       "    </tr>\n",
       "    <tr>\n",
       "      <th>42750</th>\n",
       "      <td>8fb2fdc87d9155c3373ede38a533cbf7</td>\n",
       "      <td>88576</td>\n",
       "      <td>4096</td>\n",
       "      <td>6.602934</td>\n",
       "      <td>88571</td>\n",
       "      <td>0</td>\n",
       "    </tr>\n",
       "  </tbody>\n",
       "</table>\n",
       "</div>"
      ],
      "text/plain": [
       "                                   hash  size_of_data  virtual_address  \\\n",
       "7719   a32a382b8a5a906e03a83b4f3e5b7a9b         51712             4096   \n",
       "10428  9600d4ff16bd7e21b1a4f534a2327849         47616             4096   \n",
       "13380  45ea2362bc248bc57395239a5aa490af        602624             4096   \n",
       "14518  075323e77815ee8bcc7854ce23955a15         35840             4096   \n",
       "16715  bdaaac3fa3f6796825a51ef1c0e5b3fd       2247168             4096   \n",
       "20041  3d8a7a97ea954dd4fe66279df2b445e0       1950720             4096   \n",
       "20937  01061d1982f34394e39cde33153c19f4         44032             4096   \n",
       "21232  79b78bb3d583748040c41ded09555fd3         28672             4096   \n",
       "21418  03384ab6368b68ed16ecb9e6352539af         35328             4096   \n",
       "21969  45ea2362bc248bc57395239a5aa490af        602624             4096   \n",
       "23900  45ea2362bc248bc57395239a5aa490af        602624             4096   \n",
       "24376  45ea2362bc248bc57395239a5aa490af        602624             4096   \n",
       "27270  1b79ced2b4e7c4a2122256d584e9ad4b         64512             4096   \n",
       "30730  950dd2210c66a19974b550a3abae54f5         74752             4096   \n",
       "33123  f78ea80cec007b2c32fb10f9c6c82f39         35328             4096   \n",
       "36499  967836f5ef6d3a9bf5c6f50ec37e1c73         74240             4096   \n",
       "36510  cb59224ec3079a895b7f60cce0374677          1536             4096   \n",
       "37608  97694c06a154ee6f80d77a0f5d5da42f          7168             4096   \n",
       "38454  8d3ef80b0684c7d42ce3dc20c083cd48          5632             4096   \n",
       "38542  60b305209feb97fe7596c8756cbf5baf         11776             4096   \n",
       "39803  05597db8265479234c8e15a7290cd7f0        466432             4096   \n",
       "41573  e63dc83efa0e9be229cc0863a0aedc79          5632             4096   \n",
       "42744  e97c622b03fb2a2598bf019fbbe29f2c         51712             4096   \n",
       "42750  8fb2fdc87d9155c3373ede38a533cbf7         88576             4096   \n",
       "\n",
       "        entropy  virtual_size  malware  \n",
       "7719   6.611199         51549        0  \n",
       "10428  6.464158         47210        0  \n",
       "13380  6.383961        602244        0  \n",
       "14518  6.305845         35752        0  \n",
       "16715  6.598922       2247161        0  \n",
       "20041  6.650195       1950553        0  \n",
       "20937  6.475128         43802        0  \n",
       "21232  6.497885         28432        0  \n",
       "21418  6.275874         34856        0  \n",
       "21969  6.383961        602244        0  \n",
       "23900  6.383961        602244        0  \n",
       "24376  6.383961        602244        0  \n",
       "27270  6.582048         64184        0  \n",
       "30730  6.628188         74313        0  \n",
       "33123  6.301381         35104        0  \n",
       "36499  6.619875         74219        0  \n",
       "36510  5.209896          1198        0  \n",
       "37608  5.921515          6892        0  \n",
       "38454  5.675129          5312        0  \n",
       "38542  5.905715         11756        0  \n",
       "39803  5.917401        466025        0  \n",
       "41573  5.891919          5536        0  \n",
       "42744  6.618136         51693        0  \n",
       "42750  6.602934         88571        0  "
      ]
     },
     "execution_count": 8,
     "metadata": {},
     "output_type": "execute_result"
    }
   ],
   "source": [
    "data[data.duplicated()] #вывелись все дубликаты, то есть у них совпадают значения во всех шести колонках. \n",
    "#хоть их и немного, но все равно лучше удалю, что провести обучение на максимально чистых и не повторяющихся \n",
    "#данных"
   ]
  },
  {
   "cell_type": "code",
   "execution_count": 9,
   "id": "74ec9af0",
   "metadata": {},
   "outputs": [],
   "source": [
    "data = data[~data.duplicated()] #убираем повторы"
   ]
  },
  {
   "cell_type": "code",
   "execution_count": 10,
   "id": "f0f5daf0",
   "metadata": {},
   "outputs": [
    {
     "data": {
      "text/plain": [
       "0"
      ]
     },
     "execution_count": 10,
     "metadata": {},
     "output_type": "execute_result"
    }
   ],
   "source": [
    "data.duplicated().sum() #проверяем правильно ли все сработало"
   ]
  },
  {
   "cell_type": "code",
   "execution_count": 11,
   "id": "83829f99",
   "metadata": {},
   "outputs": [
    {
     "name": "stderr",
     "output_type": "stream",
     "text": [
      "/Users/Katty/opt/anaconda3/lib/python3.8/site-packages/seaborn/_decorators.py:36: FutureWarning: Pass the following variable as a keyword arg: x. From version 0.12, the only valid positional argument will be `data`, and passing other arguments without an explicit keyword will result in an error or misinterpretation.\n",
      "  warnings.warn(\n"
     ]
    },
    {
     "data": {
      "image/png": "[encoded data removed]",
      "text/plain": [
       "<Figure size 432x288 with 1 Axes>"
      ]
     },
     "metadata": {},
     "output_type": "display_data"
    }
   ],
   "source": [
    "sns.countplot(data['malware'])\n",
    "plt.show()"
   ]
  },
  {
   "cell_type": "markdown",
   "id": "11365b64",
   "metadata": {},
   "source": [
    "обнаружен дисбаланс классов. позже уменьшу выборку, чтобы разница не была такой большой"
   ]
  },
  {
   "cell_type": "code",
   "execution_count": 12,
   "id": "7e8a11f2",
   "metadata": {},
   "outputs": [
    {
     "data": {
      "text/plain": [
       "1701"
      ]
     },
     "execution_count": 12,
     "metadata": {},
     "output_type": "execute_result"
    }
   ],
   "source": [
    "len(data[data['malware'] == 0])"
   ]
  },
  {
   "cell_type": "code",
   "execution_count": 13,
   "id": "3b47216f",
   "metadata": {},
   "outputs": [
    {
     "data": {
      "text/plain": [
       "<seaborn.axisgrid.FacetGrid at 0x7f977f3c6a90>"
      ]
     },
     "execution_count": 13,
     "metadata": {},
     "output_type": "execute_result"
    },
    {
     "data": {
      "image/png": "[encoded data removed]",
      "text/plain": [
       "<Figure size 414.05x360 with 1 Axes>"
      ]
     },
     "metadata": {},
     "output_type": "display_data"
    }
   ],
   "source": [
    "sns.relplot(data=data,x=\"size_of_data\",y=\"virtual_size\",hue=\"malware\")"
   ]
  },
  {
   "cell_type": "markdown",
   "id": "7197ab3f",
   "metadata": {},
   "source": [
    "соотношение size_of_data к virtual_size с указанием вредоносный файл или нет"
   ]
  },
  {
   "cell_type": "code",
   "execution_count": 14,
   "id": "67a2bdbb",
   "metadata": {},
   "outputs": [],
   "source": [
    "from sklearn.preprocessing import normalize, StandardScaler\n",
    "from sklearn.utils import resample\n",
    "from sklearn.datasets import make_classification"
   ]
  },
  {
   "cell_type": "code",
   "execution_count": 15,
   "id": "4e82b145",
   "metadata": {},
   "outputs": [
    {
     "name": "stdout",
     "output_type": "stream",
     "text": [
      "1    7000\n",
      "0    1701\n",
      "Name: malware, dtype: int64\n"
     ]
    }
   ],
   "source": [
    "df_0 = data[data.malware == 0] #создаем два поднабора данных для 0 и 1 \n",
    "df_1 = data[data.malware == 1]\n",
    "  \n",
    "# создаем новый поднабор данных для 1\n",
    "df_1_sample = resample(df_1,\n",
    "                           replace=False,    \n",
    "                           n_samples=7000,  #задаем значение сколько нам нужно данных \n",
    "                           random_state=1)\n",
    "  \n",
    "# объединяются в новый набор классов\n",
    "df_sample = pd.concat([df_0, df_1_sample])\n",
    "  \n",
    "# смотрим на изменение размера классов\n",
    "print(df_sample.malware.value_counts())"
   ]
  },
  {
   "cell_type": "code",
   "execution_count": 16,
   "id": "c82ed806",
   "metadata": {},
   "outputs": [
    {
     "name": "stderr",
     "output_type": "stream",
     "text": [
      "/Users/Katty/opt/anaconda3/lib/python3.8/site-packages/seaborn/_decorators.py:36: FutureWarning: Pass the following variable as a keyword arg: x. From version 0.12, the only valid positional argument will be `data`, and passing other arguments without an explicit keyword will result in an error or misinterpretation.\n",
      "  warnings.warn(\n"
     ]
    },
    {
     "data": {
      "image/png": "[encoded data removed]",
      "text/plain": [
       "<Figure size 432x288 with 1 Axes>"
      ]
     },
     "metadata": {},
     "output_type": "display_data"
    }
   ],
   "source": [
    "sns.countplot(df_sample['malware'])\n",
    "plt.show()"
   ]
  },
  {
   "cell_type": "code",
   "execution_count": 60,
   "id": "4febe7e3",
   "metadata": {},
   "outputs": [],
   "source": [
    "target = df_sample['malware'] #отделяем\n",
    "data = df_sample.drop(['malware'], axis=1)"
   ]
  },
  {
   "cell_type": "code",
   "execution_count": 61,
   "id": "5ab27f05",
   "metadata": {},
   "outputs": [],
   "source": [
    "y = target\n",
    "X = df_sample.hash #помещаем сюда текстовые данные"
   ]
  },
  {
   "cell_type": "code",
   "execution_count": 62,
   "id": "420b9e34",
   "metadata": {},
   "outputs": [],
   "source": [
    "#делим на обучающую и тестовую выборку, тестовая составляет 20 процентов\n",
    "\n",
    "from sklearn.model_selection import train_test_split\n",
    "X_train, X_test, y_train, y_test = train_test_split(X, y, test_size=0.2, shuffle=True,random_state=True) "
   ]
  },
  {
   "cell_type": "code",
   "execution_count": 63,
   "id": "d136cf80",
   "metadata": {},
   "outputs": [],
   "source": [
    "from sklearn.naive_bayes import MultinomialNB\n",
    "from sklearn.feature_extraction.text import CountVectorizer"
   ]
  },
  {
   "cell_type": "code",
   "execution_count": 64,
   "id": "63a8675e",
   "metadata": {},
   "outputs": [
    {
     "data": {
      "text/plain": [
       "(6960, (6960, 6957))"
      ]
     },
     "execution_count": 64,
     "metadata": {},
     "output_type": "execute_result"
    }
   ],
   "source": [
    "# Преобразование текста в набор численных вектором \n",
    "\n",
    "vectorizer = CountVectorizer()\n",
    "X_vec_train = vectorizer.fit_transform(X_train)\n",
    "X_vec_test = vectorizer.transform(X_test)\n",
    "len(X_train), X_vec_train.shape"
   ]
  },
  {
   "cell_type": "markdown",
   "id": "d4caf965",
   "metadata": {},
   "source": [
    "## Машинное обучение"
   ]
  },
  {
   "cell_type": "markdown",
   "id": "4ddb88c6",
   "metadata": {},
   "source": [
    "#### (обучение на основе текстовых данных)"
   ]
  },
  {
   "cell_type": "markdown",
   "id": "24107965",
   "metadata": {},
   "source": [
    "### 1 модель"
   ]
  },
  {
   "cell_type": "code",
   "execution_count": 65,
   "id": "6377c6e4",
   "metadata": {},
   "outputs": [],
   "source": [
    "clf = MultinomialNB(alpha=0.01)\n",
    "clf.fit(X_vec_train, y_train)\n",
    "\n",
    "y_pred = clf.predict(X_vec_test)"
   ]
  },
  {
   "cell_type": "code",
   "execution_count": 66,
   "id": "4a03b867",
   "metadata": {},
   "outputs": [
    {
     "data": {
      "text/plain": [
       "Text(0.5, 66.5, 'Предсказанные значения')"
      ]
     },
     "execution_count": 66,
     "metadata": {},
     "output_type": "execute_result"
    },
    {
     "data": {
      "image/png": "[encoded data removed]",
      "text/plain": [
       "<Figure size 720x720 with 2 Axes>"
      ]
     },
     "metadata": {},
     "output_type": "display_data"
    }
   ],
   "source": [
    "matrix = metrics.confusion_matrix(y_test, y_pred)\n",
    "\n",
    "fig, ax = plt.subplots(figsize=(10, 10))\n",
    "sns.heatmap(pd.DataFrame(matrix), annot=True)\n",
    "plt.ylabel('Действительные значения')\n",
    "plt.xlabel('Предсказанные значения')"
   ]
  },
  {
   "cell_type": "code",
   "execution_count": 67,
   "id": "2bbcf715",
   "metadata": {},
   "outputs": [
    {
     "name": "stdout",
     "output_type": "stream",
     "text": [
      "              precision    recall  f1-score   support\n",
      "\n",
      "           0       1.00      0.00      0.01       319\n",
      "           1       0.82      1.00      0.90      1422\n",
      "\n",
      "    accuracy                           0.82      1741\n",
      "   macro avg       0.91      0.50      0.45      1741\n",
      "weighted avg       0.85      0.82      0.74      1741\n",
      "\n"
     ]
    }
   ],
   "source": [
    "print(metrics.classification_report(y_test, y_pred))"
   ]
  },
  {
   "cell_type": "markdown",
   "id": "4de0d198",
   "metadata": {},
   "source": [
    "### 2 модель"
   ]
  },
  {
   "cell_type": "code",
   "execution_count": 68,
   "id": "f8913ae3",
   "metadata": {},
   "outputs": [],
   "source": [
    "from sklearn.linear_model import LogisticRegression\n",
    "model_lr = LogisticRegression()\n",
    "model_lr.fit(X_vec_train, y_train)\n",
    "y_pred_lr = model_lr.predict(X_vec_test)"
   ]
  },
  {
   "cell_type": "code",
   "execution_count": 69,
   "id": "d2bf5412",
   "metadata": {},
   "outputs": [
    {
     "name": "stdout",
     "output_type": "stream",
     "text": [
      "              precision    recall  f1-score   support\n",
      "\n",
      "           0       0.00      0.00      0.00       319\n",
      "           1       0.82      1.00      0.90      1422\n",
      "\n",
      "    accuracy                           0.82      1741\n",
      "   macro avg       0.41      0.50      0.45      1741\n",
      "weighted avg       0.67      0.82      0.73      1741\n",
      "\n"
     ]
    },
    {
     "name": "stderr",
     "output_type": "stream",
     "text": [
      "/Users/Katty/opt/anaconda3/lib/python3.8/site-packages/sklearn/metrics/_classification.py:1318: UndefinedMetricWarning: Precision and F-score are ill-defined and being set to 0.0 in labels with no predicted samples. Use `zero_division` parameter to control this behavior.\n",
      "  _warn_prf(average, modifier, msg_start, len(result))\n",
      "/Users/Katty/opt/anaconda3/lib/python3.8/site-packages/sklearn/metrics/_classification.py:1318: UndefinedMetricWarning: Precision and F-score are ill-defined and being set to 0.0 in labels with no predicted samples. Use `zero_division` parameter to control this behavior.\n",
      "  _warn_prf(average, modifier, msg_start, len(result))\n",
      "/Users/Katty/opt/anaconda3/lib/python3.8/site-packages/sklearn/metrics/_classification.py:1318: UndefinedMetricWarning: Precision and F-score are ill-defined and being set to 0.0 in labels with no predicted samples. Use `zero_division` parameter to control this behavior.\n",
      "  _warn_prf(average, modifier, msg_start, len(result))\n"
     ]
    }
   ],
   "source": [
    "print(metrics.classification_report(y_test, y_pred_lr))"
   ]
  },
  {
   "cell_type": "code",
   "execution_count": 70,
   "id": "9875dadf",
   "metadata": {},
   "outputs": [
    {
     "data": {
      "text/plain": [
       "Text(0.5, 66.5, 'Предсказанные значения')"
      ]
     },
     "execution_count": 70,
     "metadata": {},
     "output_type": "execute_result"
    },
    {
     "data": {
      "image/png": "[encoded data removed]",
      "text/plain": [
       "<Figure size 720x720 with 2 Axes>"
      ]
     },
     "metadata": {},
     "output_type": "display_data"
    }
   ],
   "source": [
    "matrix = metrics.confusion_matrix(y_test, y_pred_lr)\n",
    "\n",
    "fig, ax = plt.subplots(figsize=(10, 10))\n",
    "sns.heatmap(pd.DataFrame(matrix), annot=True)\n",
    "plt.ylabel('Действительные значения')\n",
    "plt.xlabel('Предсказанные значения')"
   ]
  },
  {
   "cell_type": "markdown",
   "id": "303ddacd",
   "metadata": {},
   "source": [
    "### 3 модель"
   ]
  },
  {
   "cell_type": "code",
   "execution_count": 71,
   "id": "986a3932",
   "metadata": {},
   "outputs": [],
   "source": [
    "from sklearn.ensemble import RandomForestClassifier\n",
    "rfc=RandomForestClassifier()\n",
    "rfc.fit(X_vec_train, y_train)\n",
    "y_pred_rfc = rfc.predict(X_vec_test)"
   ]
  },
  {
   "cell_type": "code",
   "execution_count": 72,
   "id": "8fb9ae38",
   "metadata": {},
   "outputs": [
    {
     "name": "stdout",
     "output_type": "stream",
     "text": [
      "              precision    recall  f1-score   support\n",
      "\n",
      "           0       1.00      0.00      0.01       319\n",
      "           1       0.82      1.00      0.90      1422\n",
      "\n",
      "    accuracy                           0.82      1741\n",
      "   macro avg       0.91      0.50      0.45      1741\n",
      "weighted avg       0.85      0.82      0.74      1741\n",
      "\n"
     ]
    }
   ],
   "source": [
    "print(metrics.classification_report(y_test, y_pred_rfc))"
   ]
  },
  {
   "cell_type": "code",
   "execution_count": 73,
   "id": "ae00b4fd",
   "metadata": {},
   "outputs": [
    {
     "data": {
      "text/plain": [
       "Text(0.5, 66.5, 'Предсказанные значения')"
      ]
     },
     "execution_count": 73,
     "metadata": {},
     "output_type": "execute_result"
    },
    {
     "data": {
      "image/png": "[encoded data removed]",
      "text/plain": [
       "<Figure size 720x720 with 2 Axes>"
      ]
     },
     "metadata": {},
     "output_type": "display_data"
    }
   ],
   "source": [
    "matrix = metrics.confusion_matrix(y_test, y_pred_rfc)\n",
    "\n",
    "fig, ax = plt.subplots(figsize=(10, 10))\n",
    "sns.heatmap(pd.DataFrame(matrix), annot=True,cmap=\"crest\")\n",
    "plt.ylabel('Действительные значения')\n",
    "plt.xlabel('Предсказанные значения')"
   ]
  },
  {
   "cell_type": "markdown",
   "id": "25623308",
   "metadata": {},
   "source": [
    "### 4 модель (в работе упомянула только 1 и 3 модели)"
   ]
  },
  {
   "cell_type": "code",
   "execution_count": 74,
   "id": "b2f28c7e",
   "metadata": {},
   "outputs": [],
   "source": [
    "from sklearn import svm\n",
    "svc = svm.SVC()\n",
    "svc.fit(X_vec_train, y_train)\n",
    "y_pred_svc = svc.predict(X_vec_test)"
   ]
  },
  {
   "cell_type": "code",
   "execution_count": 75,
   "id": "d6c465f3",
   "metadata": {},
   "outputs": [
    {
     "data": {
      "text/plain": [
       "Text(0.5, 66.5, 'Предсказанные значения')"
      ]
     },
     "execution_count": 75,
     "metadata": {},
     "output_type": "execute_result"
    },
    {
     "data": {
      "image/png": "[encoded data removed]",
      "text/plain": [
       "<Figure size 720x720 with 2 Axes>"
      ]
     },
     "metadata": {},
     "output_type": "display_data"
    }
   ],
   "source": [
    "matrix = metrics.confusion_matrix(y_test, y_pred_svc)\n",
    "\n",
    "fig, ax = plt.subplots(figsize=(10, 10))\n",
    "sns.heatmap(pd.DataFrame(matrix), annot=True)\n",
    "plt.ylabel('Действительные значения')\n",
    "plt.xlabel('Предсказанные значения')"
   ]
  },
  {
   "cell_type": "code",
   "execution_count": 76,
   "id": "e48fa3b5",
   "metadata": {},
   "outputs": [
    {
     "name": "stdout",
     "output_type": "stream",
     "text": [
      "              precision    recall  f1-score   support\n",
      "\n",
      "           0       1.00      0.00      0.01       319\n",
      "           1       0.82      1.00      0.90      1422\n",
      "\n",
      "    accuracy                           0.82      1741\n",
      "   macro avg       0.91      0.50      0.45      1741\n",
      "weighted avg       0.85      0.82      0.74      1741\n",
      "\n"
     ]
    }
   ],
   "source": [
    "print(metrics.classification_report(y_test, y_pred_svc))"
   ]
  },
  {
   "cell_type": "markdown",
   "id": "03e93d38",
   "metadata": {},
   "source": [
    "## глубокое обучение"
   ]
  },
  {
   "cell_type": "code",
   "execution_count": 77,
   "id": "b61dff27",
   "metadata": {},
   "outputs": [],
   "source": [
    "import tensorflow as tf\n",
    "from tensorflow import keras\n"
   ]
  },
  {
   "cell_type": "code",
   "execution_count": 78,
   "id": "1074af53",
   "metadata": {},
   "outputs": [],
   "source": [
    "\n",
    "# Создание модели\n",
    "\n",
    "model = keras.Sequential()\n",
    "model.add(keras.layers.Embedding(input_dim=10000, output_dim=16))\n",
    "model.add(keras.layers.GlobalAveragePooling1D())\n",
    "model.add(keras.layers.Dense(units=16, activation='relu'))\n",
    "model.add(keras.layers.Dense(units=1, activation='sigmoid'))\n"
   ]
  },
  {
   "cell_type": "code",
   "execution_count": 79,
   "id": "59105b30",
   "metadata": {},
   "outputs": [],
   "source": [
    "\n",
    "# Компиляция модели\n",
    "model.compile(optimizer='adam', loss='binary_crossentropy', metrics=['accuracy'])\n"
   ]
  },
  {
   "cell_type": "code",
   "execution_count": 80,
   "id": "2bc7c4da",
   "metadata": {},
   "outputs": [
    {
     "name": "stdout",
     "output_type": "stream",
     "text": [
      "Epoch 1/3\n",
      "14/14 [==============================] - 4s 260ms/step - loss: 0.6842 - accuracy: 0.7095 - val_loss: 0.6698 - val_accuracy: 0.8168\n",
      "Epoch 2/3\n",
      "14/14 [==============================] - 3s 245ms/step - loss: 0.6607 - accuracy: 0.8014 - val_loss: 0.6466 - val_accuracy: 0.8168\n",
      "Epoch 3/3\n",
      "14/14 [==============================] - 3s 248ms/step - loss: 0.6396 - accuracy: 0.8014 - val_loss: 0.6244 - val_accuracy: 0.8168\n"
     ]
    }
   ],
   "source": [
    "# Обучение модели\n",
    "history = model.fit(X_vec_train.toarray(), y_train, epochs=3, batch_size=512, validation_data=(X_vec_test.toarray(), y_test))\n"
   ]
  },
  {
   "cell_type": "code",
   "execution_count": 81,
   "id": "eaa7fe5c",
   "metadata": {},
   "outputs": [
    {
     "name": "stdout",
     "output_type": "stream",
     "text": [
      "55/55 [==============================] - 0s 7ms/step - loss: 0.6244 - accuracy: 0.8168\n",
      "Loss: 0.6244011521339417, Accuracy: 0.8167719841003418\n"
     ]
    }
   ],
   "source": [
    "\n",
    "# Оценка модели\n",
    "loss, accuracy = model.evaluate(X_vec_test.toarray(), y_test)\n",
    "print(f'Loss: {loss}, Accuracy: {accuracy}')\n"
   ]
  },
  {
   "cell_type": "code",
   "execution_count": 82,
   "id": "e4bda54f",
   "metadata": {},
   "outputs": [],
   "source": [
    "from sklearn.metrics import accuracy_score"
   ]
  },
  {
   "cell_type": "markdown",
   "id": "3976c1ac",
   "metadata": {},
   "source": [
    "### сравнение"
   ]
  },
  {
   "cell_type": "code",
   "execution_count": 83,
   "id": "01d04c6d",
   "metadata": {},
   "outputs": [
    {
     "name": "stdout",
     "output_type": "stream",
     "text": [
      "MultinomialNB          | Accuracy: 0.8173463526708789\n",
      "RandomForestClassifier | Accuracy: 0.8173463526708789\n",
      "Нейроонная сеть        | Accuracy: 0.8167719841003418\n"
     ]
    }
   ],
   "source": [
    "\n",
    "print(f'MultinomialNB          | Accuracy: {accuracy_score(y_test, y_pred)}')\n",
    "print(f'RandomForestClassifier | Accuracy: {accuracy_score(y_test, y_pred_rfc)}')\n",
    "print(f'Нейроонная сеть        | Accuracy: {accuracy}')"
   ]
  },
  {
   "cell_type": "markdown",
   "id": "f3ae9590",
   "metadata": {},
   "source": [
    "---"
   ]
  },
  {
   "cell_type": "markdown",
   "id": "c2c1ef37",
   "metadata": {},
   "source": [
    "### Теперь тоже самое, только с числовыми данными (virtual_size,size_of_data,entropy, virlual_address)  "
   ]
  },
  {
   "cell_type": "markdown",
   "id": "4bb84f62",
   "metadata": {},
   "source": [
    "я решили провести обучение на числовых данных, тк заметила что обучение по заголовкам файлов не всегда корректно. поэтому эта часть работы решает вопрос удобно ли вообще обнаружать вреденосное ПО по заголовкам файлов"
   ]
  },
  {
   "cell_type": "code",
   "execution_count": 41,
   "id": "bb897a86",
   "metadata": {},
   "outputs": [],
   "source": [
    "y = target\n",
    "X = df_sample.drop(['hash'], axis=1)"
   ]
  },
  {
   "cell_type": "code",
   "execution_count": 42,
   "id": "fd85d6a6",
   "metadata": {},
   "outputs": [],
   "source": [
    "#делим на обучающую и тестовую выборку, тестовая составляет 20 процентов\n",
    "\n",
    "from sklearn.model_selection import train_test_split\n",
    "X_train, X_test, y_train, y_test = train_test_split(X, y, test_size=0.2, shuffle=True, random_state=True) "
   ]
  },
  {
   "cell_type": "markdown",
   "id": "dff46feb",
   "metadata": {},
   "source": [
    "### 1 модель"
   ]
  },
  {
   "cell_type": "code",
   "execution_count": 43,
   "id": "eaf31117",
   "metadata": {},
   "outputs": [],
   "source": [
    "clf = MultinomialNB(alpha=0.01)\n",
    "clf.fit(X_train, y_train)\n",
    "\n",
    "y_pred = clf.predict(X_test)"
   ]
  },
  {
   "cell_type": "code",
   "execution_count": 44,
   "id": "6ffd4876",
   "metadata": {},
   "outputs": [
    {
     "data": {
      "text/plain": [
       "Text(0.5, 66.5, 'Предсказанные значения')"
      ]
     },
     "execution_count": 44,
     "metadata": {},
     "output_type": "execute_result"
    },
    {
     "data": {
      "image/png": "[encoded data removed]",
      "text/plain": [
       "<Figure size 720x720 with 2 Axes>"
      ]
     },
     "metadata": {},
     "output_type": "display_data"
    }
   ],
   "source": [
    "matrix = metrics.confusion_matrix(y_test, y_pred)\n",
    "\n",
    "fig, ax = plt.subplots(figsize=(10, 10))\n",
    "sns.heatmap(pd.DataFrame(matrix), annot=True)\n",
    "plt.ylabel('Действительные значения')\n",
    "plt.xlabel('Предсказанные значения')"
   ]
  },
  {
   "cell_type": "code",
   "execution_count": 45,
   "id": "56f42c56",
   "metadata": {},
   "outputs": [
    {
     "name": "stdout",
     "output_type": "stream",
     "text": [
      "              precision    recall  f1-score   support\n",
      "\n",
      "           0       0.13      0.23      0.16       319\n",
      "           1       0.79      0.65      0.71      1422\n",
      "\n",
      "    accuracy                           0.57      1741\n",
      "   macro avg       0.46      0.44      0.44      1741\n",
      "weighted avg       0.67      0.57      0.61      1741\n",
      "\n"
     ]
    }
   ],
   "source": [
    "print(metrics.classification_report(y_test, y_pred))"
   ]
  },
  {
   "cell_type": "markdown",
   "id": "f00c5f8a",
   "metadata": {},
   "source": [
    "### 2 модель"
   ]
  },
  {
   "cell_type": "code",
   "execution_count": 46,
   "id": "8de7c938",
   "metadata": {},
   "outputs": [],
   "source": [
    "from sklearn.ensemble import RandomForestClassifier\n",
    "rfc=RandomForestClassifier()\n",
    "rfc.fit(X_train, y_train)\n",
    "y_pred_rfc = rfc.predict(X_test)"
   ]
  },
  {
   "cell_type": "code",
   "execution_count": 47,
   "id": "49b01dfe",
   "metadata": {},
   "outputs": [
    {
     "name": "stdout",
     "output_type": "stream",
     "text": [
      "              precision    recall  f1-score   support\n",
      "\n",
      "           0       1.00      1.00      1.00       319\n",
      "           1       1.00      1.00      1.00      1422\n",
      "\n",
      "    accuracy                           1.00      1741\n",
      "   macro avg       1.00      1.00      1.00      1741\n",
      "weighted avg       1.00      1.00      1.00      1741\n",
      "\n"
     ]
    }
   ],
   "source": [
    "print(metrics.classification_report(y_test, y_pred_rfc))"
   ]
  },
  {
   "cell_type": "code",
   "execution_count": 48,
   "id": "44a79e90",
   "metadata": {},
   "outputs": [
    {
     "data": {
      "text/plain": [
       "Text(0.5, 66.5, 'Предсказанные значения')"
      ]
     },
     "execution_count": 48,
     "metadata": {},
     "output_type": "execute_result"
    },
    {
     "data": {
      "image/png": "[encoded data removed]",
      "text/plain": [
       "<Figure size 720x720 with 2 Axes>"
      ]
     },
     "metadata": {},
     "output_type": "display_data"
    }
   ],
   "source": [
    "matrix = metrics.confusion_matrix(y_test, y_pred_rfc)\n",
    "\n",
    "fig, ax = plt.subplots(figsize=(10, 10))\n",
    "sns.heatmap(pd.DataFrame(matrix), annot=True,cmap=\"crest\")\n",
    "plt.ylabel('Действительные значения')\n",
    "plt.xlabel('Предсказанные значения')"
   ]
  },
  {
   "cell_type": "markdown",
   "id": "89f0a0a3",
   "metadata": {},
   "source": [
    "### глубокое обучение"
   ]
  },
  {
   "cell_type": "code",
   "execution_count": 51,
   "id": "02fc1009",
   "metadata": {},
   "outputs": [],
   "source": [
    "from keras.models import Sequential\n",
    "from keras.layers import Dense\n",
    "from keras.wrappers.scikit_learn import KerasClassifier\n",
    "from sklearn.model_selection import cross_val_score\n",
    "from sklearn.preprocessing import LabelEncoder\n",
    "from sklearn.model_selection import StratifiedKFold\n",
    "from sklearn.preprocessing import StandardScaler\n",
    "from sklearn.pipeline import Pipeline"
   ]
  },
  {
   "cell_type": "code",
   "execution_count": 52,
   "id": "4fdced9c",
   "metadata": {},
   "outputs": [],
   "source": [
    "def create_baseline():\n",
    "    # создаю модель\n",
    "    model = Sequential()\n",
    "    model.add(Dense(5, input_dim=5, kernel_initializer='normal', activation='relu'))\n",
    "    model.add(Dense(1, kernel_initializer='normal', activation='sigmoid'))\n",
    "    # компилирую модель\n",
    "    model.compile(loss='binary_crossentropy', optimizer='adam', metrics=['accuracy'])\n",
    "    return model"
   ]
  },
  {
   "cell_type": "code",
   "execution_count": 53,
   "id": "7fa3467c",
   "metadata": {},
   "outputs": [
    {
     "name": "stderr",
     "output_type": "stream",
     "text": [
      "/var/folders/zj/21ldn1d15sv91ybhtv_6hzm40000gn/T/ipykernel_34230/1884580849.py:2: DeprecationWarning: KerasClassifier is deprecated, use Sci-Keras (https://github.com/adriangb/scikeras) instead. See https://www.adriangb.com/scikeras/stable/migration.html for help migrating.\n",
      "  estimator = KerasClassifier(build_fn=create_baseline, epochs=10, batch_size=5, verbose=0)\n"
     ]
    },
    {
     "name": "stdout",
     "output_type": "stream",
     "text": [
      "Results: 80.45% (0.03%)\n"
     ]
    }
   ],
   "source": [
    "# Оценить модель со стандартизированным набором данных\n",
    "estimator = KerasClassifier(build_fn=create_baseline, epochs=10, batch_size=5, verbose=0)\n",
    "kfold = StratifiedKFold(n_splits=10, shuffle=True, random_state=False)\n",
    "results = cross_val_score(estimator, X,  y, cv=kfold)\n",
    "print(\"Results: %.2f%% (%.2f%%)\" % (results.mean()*100, results.std()*100))"
   ]
  },
  {
   "cell_type": "code",
   "execution_count": 54,
   "id": "cf254c14",
   "metadata": {},
   "outputs": [
    {
     "name": "stdout",
     "output_type": "stream",
     "text": [
      "MultinomialNB          | Accuracy: 0.5720850086157381\n",
      "RandomForestClassifier | Accuracy: 1.0\n",
      "Нейронная сеть         | Accuracy: 0.8045053005218505\n"
     ]
    }
   ],
   "source": [
    "from sklearn.metrics import accuracy_score\n",
    "print(f'MultinomialNB          | Accuracy: {accuracy_score(y_test, y_pred)}')\n",
    "print(f'RandomForestClassifier | Accuracy: {accuracy_score(y_test, y_pred_rfc)}')\n",
    "print(f'Нейронная сеть         | Accuracy: {results.mean()}')"
   ]
  },
  {
   "cell_type": "code",
   "execution_count": null,
   "id": "5bef2d3a",
   "metadata": {},
   "outputs": [],
   "source": []
  }
 ],
 "metadata": {
  "kernelspec": {
   "display_name": "Python 3 (ipykernel)",
   "language": "python",
   "name": "python3"
  },
  "language_info": {
   "codemirror_mode": {
    "name": "ipython",
    "version": 3
   },
   "file_extension": ".py",
   "mimetype": "text/x-python",
   "name": "python",
   "nbconvert_exporter": "python",
   "pygments_lexer": "ipython3",
   "version": "3.8.3"
  }
 },
 "nbformat": 4,
 "nbformat_minor": 5
}
